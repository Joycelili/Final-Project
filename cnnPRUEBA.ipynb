{
 "cells": [
  {
   "cell_type": "markdown",
   "metadata": {},
   "source": [
    "cnn with keras"
   ]
  },
  {
   "cell_type": "markdown",
   "metadata": {},
   "source": [
    "importamos librerias basicas"
   ]
  },
  {
   "cell_type": "code",
   "execution_count": 1,
   "metadata": {},
   "outputs": [],
   "source": [
    "import os, cv2, itertools\n",
    "import numpy as np\n",
    "import pandas as pd\n",
    "import matplotlib.pyplot as plt\n",
    "%matplotlib inline"
   ]
  },
  {
   "cell_type": "code",
   "execution_count": 2,
   "metadata": {},
   "outputs": [],
   "source": [
    "from keras.utils.np_utils import to_categorical\n",
    "from keras.models import Sequential\n",
    "from keras.layers import Conv2D, MaxPooling2D, Flatten\n",
    "from keras.layers import Dense, Dropout"
   ]
  },
  {
   "cell_type": "code",
   "execution_count": 3,
   "metadata": {},
   "outputs": [],
   "source": [
    "from sklearn.utils import shuffle\n",
    "from sklearn.model_selection import train_test_split"
   ]
  },
  {
   "cell_type": "markdown",
   "metadata": {},
   "source": [
    "global variables"
   ]
  },
  {
   "cell_type": "code",
   "execution_count": 4,
   "metadata": {},
   "outputs": [],
   "source": [
    "train_dir= \"input/train/\"\n",
    "test_dir=\"input/test/\"\n",
    "ROWS = 64\n",
    "COLS = 64\n",
    "CHANNELS = 3"
   ]
  },
  {
   "cell_type": "markdown",
   "metadata": {},
   "source": [
    "ahora creo las variables con los path de las direciones de las img"
   ]
  },
  {
   "cell_type": "code",
   "execution_count": 5,
   "metadata": {},
   "outputs": [],
   "source": [
    "train_images = [train_dir+i for i in os.listdir(train_dir)]\n",
    "test_images = [test_dir+i for i in os.listdir(test_dir)]"
   ]
  },
  {
   "cell_type": "markdown",
   "metadata": {},
   "source": [
    "Se lee las imag con Cv2"
   ]
  },
  {
   "cell_type": "code",
   "execution_count": 6,
   "metadata": {},
   "outputs": [],
   "source": [
    "def read_image(file_path):\n",
    "  img = cv2.imread(file_path, cv2.IMREAD_COLOR)\n",
    "  return cv2.resize(img, (ROWS, COLS),interpolation=cv2.INTER_CUBIC)"
   ]
  },
  {
   "cell_type": "markdown",
   "metadata": {},
   "source": [
    "Funcion para recorrer los archivos y prepararlos para el formato de cv2"
   ]
  },
  {
   "cell_type": "code",
   "execution_count": 7,
   "metadata": {},
   "outputs": [],
   "source": [
    "def prep_data(images):\n",
    "  m = len(images)\n",
    "  n_x = ROWS*COLS*CHANNELS\n",
    "  \n",
    "  X = np.ndarray((n_x,m), dtype=np.uint8)\n",
    "  y = np.zeros((1,m))\n",
    "  print(\"X.shape is {}\".format(X.shape))\n",
    "  \n",
    "  for i,image_file in enumerate(images) :\n",
    "    image = read_image(image_file)\n",
    "    X[:,i] = np.squeeze(image.reshape((n_x,1)))\n",
    "    if 'dog' in image_file.lower() :\n",
    "      y[0,i] = 1\n",
    "    elif 'cat' in image_file.lower() :\n",
    "      y[0,i] = 0\n",
    "    else : # for test data\n",
    "      y[0,i] = image_file.split('/')[-1].split('.')[0]\n",
    "      \n",
    "    if i%5000 == 0 :\n",
    "      print(\"Proceed {} of {}\".format(i, m))\n",
    "    \n",
    "  return X,y"
   ]
  },
  {
   "cell_type": "markdown",
   "metadata": {},
   "source": [
    "llamamos a la funcion para preparar la data"
   ]
  },
  {
   "cell_type": "code",
   "execution_count": 8,
   "metadata": {},
   "outputs": [
    {
     "name": "stdout",
     "output_type": "stream",
     "text": [
      "X.shape is (12288, 25000)\n",
      "Proceed 0 of 25000\n",
      "Proceed 5000 of 25000\n",
      "Proceed 10000 of 25000\n",
      "Proceed 15000 of 25000\n",
      "Proceed 20000 of 25000\n",
      "X.shape is (12288, 12500)\n",
      "Proceed 0 of 12500\n",
      "Proceed 5000 of 12500\n",
      "Proceed 10000 of 12500\n"
     ]
    }
   ],
   "source": [
    "X_train, y_train = prep_data(train_images)\n",
    "X_test, test_idx = prep_data(test_images)"
   ]
  },
  {
   "cell_type": "code",
   "execution_count": 9,
   "metadata": {},
   "outputs": [
    {
     "name": "stdout",
     "output_type": "stream",
     "text": [
      "Train shape: (12288, 25000)\n",
      "Test shape: (12288, 12500)\n"
     ]
    }
   ],
   "source": [
    "print(\"Train shape: {}\".format(X_train.shape))\n",
    "print(\"Test shape: {}\".format(X_test.shape))"
   ]
  },
  {
   "cell_type": "markdown",
   "metadata": {},
   "source": [
    "hacemos que cojan mx random"
   ]
  },
  {
   "cell_type": "code",
   "execution_count": null,
   "metadata": {},
   "outputs": [],
   "source": [
    "X,y = shuffle(X,y)"
   ]
  },
  {
   "cell_type": "markdown",
   "metadata": {},
   "source": [
    "se defines las clases"
   ]
  },
  {
   "cell_type": "code",
   "execution_count": null,
   "metadata": {},
   "outputs": [],
   "source": [
    "classes = {0: 'cats',\n",
    "           1: 'dogs'}"
   ]
  },
  {
   "cell_type": "markdown",
   "metadata": {},
   "source": [
    "hacemos el entrenamiento con el 80%"
   ]
  },
  {
   "cell_type": "code",
   "execution_count": null,
   "metadata": {},
   "outputs": [],
   "source": [
    "\n",
    "X_train, X_val, y_train, y_val = train_test_split(X, y, test_size=0.2)\n",
    "\n",
    "print(\"Train shape: {}\".format(X_train.shape))\n",
    "print(\"Train label shape: {}\".format(y_train.shape))\n",
    "print(\"Validation shape: {}\".format(X_val.shape))\n",
    "print(\"Validation label shape: {}\".format(y_val.shape))"
   ]
  },
  {
   "cell_type": "markdown",
   "metadata": {},
   "source": [
    "lo convertimos todo en un vector"
   ]
  },
  {
   "cell_type": "code",
   "execution_count": null,
   "metadata": {},
   "outputs": [],
   "source": [
    "y_train_one_hot = to_categorical(y_train)\n",
    "print(y_train_one_hot.shape)\n",
    "\n",
    "num_classes = y_train_one_hot.shape[1]\n",
    "print(num_classes)\n",
    "\n",
    "y_val_one_hot = to_categorical(y_val)\n",
    "print(y_val_one_hot.shape)"
   ]
  },
  {
   "cell_type": "code",
   "execution_count": null,
   "metadata": {},
   "outputs": [],
   "source": [
    "def show_images(X, y, idx) :\n",
    "  image = X[idx]\n",
    "  plt.figure(figsize=(4,2))\n",
    "  plt.imshow(image)\n",
    "  plt.title(\"This is a {}\".format(classes[y[idx,0]]))\n",
    "  plt.show()"
   ]
  },
  {
   "cell_type": "code",
   "execution_count": null,
   "metadata": {},
   "outputs": [],
   "source": [
    "show_images(X_train, y_train, 0)"
   ]
  },
  {
   "cell_type": "markdown",
   "metadata": {},
   "source": [
    "Normalizamos"
   ]
  },
  {
   "cell_type": "code",
   "execution_count": null,
   "metadata": {},
   "outputs": [],
   "source": [
    "X_train_norm = X_train / 255 \n",
    "X_val_norm = X_val / 255"
   ]
  },
  {
   "cell_type": "markdown",
   "metadata": {},
   "source": [
    "CNN, CON 4 CAPAS, 1 CAPA CON SALIDA SIGMOIDE"
   ]
  },
  {
   "cell_type": "code",
   "execution_count": null,
   "metadata": {},
   "outputs": [],
   "source": [
    "model = Sequential()\n",
    "\n",
    "model.add(Conv2D(32, (3,3), input_shape=(ROWS, COLS, CHANNELS), activation='relu'))\n",
    "model.add(MaxPooling2D(pool_size = (2,2)))\n",
    "\n",
    "model.add(Conv2D(64, (3,3), activation='relu'))\n",
    "model.add(MaxPooling2D(pool_size = (2,2)))\n",
    "model.add(Dropout(0.4))\n",
    "\n",
    "model.add(Conv2D(128, (3,3), activation='relu'))\n",
    "model.add(MaxPooling2D(pool_size = (2,2)))\n",
    "model.add(Dropout(0.4))\n",
    "\n",
    "model.add(Conv2D(256, (3,3), activation='relu'))\n",
    "model.add(MaxPooling2D(pool_size = (2,2)))\n",
    "model.add(Dropout(0.4))\n",
    "\n",
    "model.add(Conv2D(512, (1,1), activation='relu'))\n",
    "#model.add(MaxPooling2D(pool_size = (2,2)))\n",
    "\n",
    "model.add(Flatten())\n",
    "model.add(Dropout(0.4))\n",
    "\n",
    "model.add(Dense(units=120, activation='relu'))\n",
    "model.add(Dense(units=2, activation='sigmoid'))\n",
    "\n",
    "model.compile(optimizer='adam', loss='categorical_crossentropy', metrics=['accuracy'])\n",
    "model.summary()"
   ]
  },
  {
   "cell_type": "code",
   "execution_count": null,
   "metadata": {},
   "outputs": [],
   "source": [
    "model.fit(X_train_norm, y_train_one_hot, validation_data=(X_val_norm, y_val_one_hot), epochs=50, batch_size = 64)"
   ]
  },
  {
   "cell_type": "markdown",
   "metadata": {},
   "source": [
    "testing"
   ]
  },
  {
   "cell_type": "code",
   "execution_count": null,
   "metadata": {},
   "outputs": [],
   "source": [
    "image = X_train[0]\n",
    "test_pred = model9.predict_classes(image.reshape(1, 64, 64, 3))\n",
    "\n",
    "show_images(X_train, y_train,0)\n",
    "\n",
    "print(\"Our Model Prediction: {}\".format(test_pred))"
   ]
  },
  {
   "cell_type": "markdown",
   "metadata": {},
   "source": [
    "helper para determinar la prediccion"
   ]
  },
  {
   "cell_type": "code",
   "execution_count": null,
   "metadata": {},
   "outputs": [],
   "source": [
    "def show_image_prediction(X, idx, model) :\n",
    "  image = X[idx].reshape(1,64,64,3)\n",
    "  image_class = classes[model.predict_classes(image).item()]\n",
    "  image = image.reshape((ROWS, COLS, CHANNELS))\n",
    "  plt.figure(figsize = (4,2))\n",
    "  plt.imshow(image)\n",
    "  plt.title(\"Test {} : I think this is {}\".format(idx, image_class))\n",
    "  plt.show()"
   ]
  },
  {
   "cell_type": "code",
   "execution_count": null,
   "metadata": {},
   "outputs": [],
   "source": [
    "X_test_lr, test_idx = X_test, test_idx\n",
    "\n",
    "for i in np.random.randint(0, len(X_test_lr), 10) :\n",
    "  show_image_prediction(X_test_lr, i, model9)"
   ]
  },
  {
   "cell_type": "code",
   "execution_count": null,
   "metadata": {},
   "outputs": [],
   "source": []
  },
  {
   "cell_type": "code",
   "execution_count": null,
   "metadata": {},
   "outputs": [],
   "source": []
  }
 ],
 "metadata": {
  "kernelspec": {
   "display_name": "Python 3",
   "language": "python",
   "name": "python3"
  },
  "language_info": {
   "codemirror_mode": {
    "name": "ipython",
    "version": 3
   },
   "file_extension": ".py",
   "mimetype": "text/x-python",
   "name": "python",
   "nbconvert_exporter": "python",
   "pygments_lexer": "ipython3",
   "version": "3.8.5"
  }
 },
 "nbformat": 4,
 "nbformat_minor": 4
}
